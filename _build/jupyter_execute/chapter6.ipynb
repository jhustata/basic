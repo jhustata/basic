{
 "cells": [
  {
   "attachments": {},
   "cell_type": "markdown",
   "metadata": {},
   "source": [
    "# 6 Nested Data\n",
    "\n",
    "<Details>\n",
    "   <Summary>Debugging</Summary>\n",
    "Before diving into nested data, let's visit the concept of [debugging](https://jhustata.github.io/basic/lab5.html#settings) with a simple example from Lab 5 last week.\n",
    "\n",
    "There’s no perfect time to introduce this topic, but many of you have likely experienced the frustration of encountering an error when running a script—whether it's your own or one shared with you—and not being able to pinpoint the issue.\n",
    "</Details>\n",
    "\n",
    "<Details>\n",
    "   <Summary>Hardcoding</Summary>\n",
    "\n",
    "Let's briefly [revisit Week 5](https://jhustata.github.io/basic/chapter5.html): Review of Weeks 1 - 4\n",
    "\n",
    "View the script we used to guide our review:\n",
    "```stata\n",
    "cat https://github.com/jhustata/basic/raw/main/review.do\n",
    "```\n",
    "\n",
    "Run the script to see its output:\n",
    "```stata\n",
    "cat https://github.com/jhustata/basic/raw/main/review.do\n",
    "```\n",
    "\n",
    "This script creates output into a `.log` file. But HW5 asks you to additional create output to a `.log` file. How may we adapt the script to this purpose?\n",
    "\n",
    "Hardcoding as a firststep:\n",
    "\n",
    "```stata\n",
    "qui {\n",
    "\tcls\n",
    "\tuse ${repo}transplants, clear\n",
    "    ds, not(type string)  \n",
    "\tglobal threshold 9  \n",
    "\tputexcel set levelsof, replace \n",
    "\tlocal row=2\n",
    "    foreach v of varlist `r(varlist)' {\n",
    "\t    levelsof `v', local(numlevels)\n",
    "\t    if r(r) == 2 {  \n",
    "\t\t\tputexcel A`row' = (\"`v'\") B`row' = (\"per\")\n",
    "\t\t\tlocal row = `row' + 1\n",
    "\t    }\n",
    "\t    else if inrange(`r(r)', 3, $threshold) {  \n",
    "\t\t\tputexcel A`row' = (\"`v', %\") B`row' = (\"\")\n",
    "\t\t\tforeach l of numlist `numlevels' {\n",
    "\t\t\t\tlocal row = `row' + 1\n",
    "                putexcel A`row' = (\"    catlab\") B`row' = (\"per\")\n",
    "\t\t\t}\t\n",
    "\t    }\n",
    "\t    else {  \n",
    "\t\t\tputexcel A`row' = (\"`v'\") B`row' = (\"m_iqr\")\n",
    "\t\t\tlocal row = `row' + 1\n",
    "\t    }\n",
    "\t\t\n",
    "    }\n",
    "\t\n",
    "}\n",
    "```\n",
    "</Details>\n",
    "\n",
    "## 6.1 `isid`\n",
    "## 6.2 `collapse`\n",
    "## 6.3 `egen`\n",
    "## 6.4 `preserve`, `restore`\n",
    "## 6.5 `merge`\n",
    "## 6.6 `reshape`\n",
    "## 6.8 Lab\n",
    "## 6.9 Homework\n",
    "\n"
   ]
  }
 ],
 "metadata": {
  "kernelspec": {
   "display_name": "Python 3",
   "language": "python",
   "name": "python3"
  },
  "language_info": {
   "codemirror_mode": {
    "name": "ipython",
    "version": 3
   },
   "file_extension": ".py",
   "mimetype": "text/x-python",
   "name": "python",
   "nbconvert_exporter": "python",
   "pygments_lexer": "ipython3",
   "version": "3.11.2"
  },
  "widgets": {
   "application/vnd.jupyter.widget-state+json": {
    "state": {},
    "version_major": 2,
    "version_minor": 0
   }
  }
 },
 "nbformat": 4,
 "nbformat_minor": 4
}