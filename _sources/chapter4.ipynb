{
 "cells": [
  {
   "attachments": {},
   "cell_type": "markdown",
   "metadata": {},
   "source": [
    "# 4. Basic file management\n",
    "\n"
   ]
  },
  {
   "attachments": {},
   "cell_type": "markdown",
   "metadata": {},
   "source": [
    "## 4.1 Merging files"
   ]
  },
  {
   "attachments": {},
   "cell_type": "markdown",
   "metadata": {},
   "source": [
    "+ Problem: Is donor age correlated with recipient age in deceased-donor transplants?"
   ]
  },
  {
   "attachments": {},
   "cell_type": "markdown",
   "metadata": {},
   "source": [
    "Let's first hold the URL to our dataset in a macro:\n",
    "\n",
    "```stata\n",
    "global url \"https://github.com/jhustata/basic/raw/main/\"\n",
    "```\n",
    "\n",
    "Now let's import [transplants.dta](https://github.com/jhustata/basic/raw/main/transplants.dta) and \n",
    "\n",
    "```stata\n",
    "use \"${url}transplants\", clear\n",
    "lookfor age\n",
    "```\n",
    "\n",
    "We only have the recipients age. So we'll have to look elsewhere for the [donor](https://github.com/jhustata/basic/raw/main/donors.dta) age:\n",
    "\n",
    "```stata\n",
    "use \"${url}donors\", clear\n",
    "lookfor age\n",
    "```\n",
    "\n",
    "```stata\n",
    ". use donors,\tclear\n",
    "\n",
    ". lookfor age\n",
    "\n",
    "Variable\tStorage\tDisplay\tValue\n",
    "name\ttype\tformat\tlabel\tVariable\tlabel\n",
    "\t\t\t\t\t\t\n",
    "age_don\tfloat\t%9.0g\t\t     \n",
    "\n",
    ". \n",
    "\n",
    "```\n",
    "\n",
    "`donors.dta` has donor age, but not recipient age."
   ]
  },
  {
   "attachments": {},
   "cell_type": "markdown",
   "metadata": {},
   "source": [
    "```stata\n",
    "use donors_recipients, clear\n",
    "list in 1/10\n",
    "```\n",
    "\n",
    "```stata\n",
    ". use donors_recipients, clear\n",
    "\n",
    ". list in 1/10\n",
    "\n",
    "     +--------------------+\n",
    "     | fake_id   fake_d~d |\n",
    "     |--------------------|\n",
    "  1. |       1       4999 |\n",
    "  2. |       2       4998 |\n",
    "  3. |       3       4997 |\n",
    "  4. |       4       4996 |\n",
    "  5. |       5       4995 |\n",
    "     |--------------------|\n",
    "  6. |       6       4994 |\n",
    "  7. |       7       4993 |\n",
    "  8. |       8       4992 |\n",
    "  9. |       9       4991 |\n",
    " 10. |      10       4990 |\n",
    "     +--------------------+\n",
    "\n",
    "```\n",
    "\n",
    "`donors_recipients.dta` has neither age, but it has fake_id (corresponding to recipients) and fake_don_id (corresponding to donors). Solution?\n",
    "\n",
    "```stata\n",
    "use transplants, clear merge 1:1 fake_id ///\n",
    "    using donors_recipients\n",
    "```\n",
    "\n",
    "```stata\n",
    ". use transplants, clear \n",
    "\n",
    ". merge 1:1 fake_id ///\n",
    ">     using donors_recipients\n",
    "\n",
    "    Result                      Number of obs\n",
    "    -----------------------------------------\n",
    "    Not matched                         3,000\n",
    "        from master                         0  (_merge==1)\n",
    "        from using                      3,000  (_merge==2)\n",
    "\n",
    "    Matched                             2,000  (_merge==3)\n",
    "    -----------------------------------------\n",
    "```\n",
    "\n",
    "+ We expect each fake_id to appear only once in each dataset (\"one-to-one merge\")\n",
    "+ fake_id is the variable that appears in both datasets, letting us link them\n",
    "+ donors_recipients is the dataset that we're merging with the dataset in memory"
   ]
  },
  {
   "attachments": {},
   "cell_type": "markdown",
   "metadata": {},
   "source": [
    "+ Zero records appeared only in the \"master\" dataset (in memory before the merge command)\n",
    "+ 3000 records appeared only in the \"using\" dataset (donors_recipients.dta)\n",
    "+ 2000 records appeared in both datasets\n",
    "+ Stata created a variable called _merge telling us whether each record was master-only, using-only, or both (matched)"
   ]
  },
  {
   "attachments": {},
   "cell_type": "markdown",
   "metadata": {},
   "source": [
    "```stata\n",
    "tab _merge \n",
    "```"
   ]
  },
  {
   "attachments": {},
   "cell_type": "markdown",
   "metadata": {},
   "source": [
    "Let's try some fancier syntax:\n",
    "\n",
    "```stata\n",
    "use transplants, clear \n",
    "merge 1:1 fake_id using donors_recipients, keep(match)\n",
    "```\n",
    "\n",
    "Only records that appear in both datasets will remain in memory"
   ]
  },
  {
   "attachments": {},
   "cell_type": "markdown",
   "metadata": {},
   "source": [
    "\n",
    "```stata\n",
    "use transplants, clear \n",
    "merge 1:1 fake_id using donors_recipients, keep(master match)\n",
    "```\n",
    "\n",
    "Only records that appear in the master dataset only, or in both datasets, will remain in memory\n"
   ]
  },
  {
   "attachments": {},
   "cell_type": "markdown",
   "metadata": {},
   "source": [
    "```stata\n",
    "use transplants, clear \n",
    "merge 1:1 fake_id using donors_recipients,   gen(mergevar)\n",
    "```\n",
    "\n",
    "Instead of creating a variable called _merge, call it mergevar"
   ]
  },
  {
   "attachments": {},
   "cell_type": "markdown",
   "metadata": {},
   "source": [
    "```stata\n",
    "use transplants, clear \n",
    "merge 1:1 fake_id using donors_recipients,   nogen\n",
    "```\n",
    "\n",
    "Don't create any new variables, **NOTE:** if the `_merge` variable already exists, the _merge command will give an error unless you use gen() or nogen"
   ]
  },
  {
   "attachments": {},
   "cell_type": "markdown",
   "metadata": {},
   "source": [
    "Two merges in a row: \n",
    "\n",
    "```stata\n",
    "use transplants, clear merge 1:1 fake_id ///\n",
    "    using donors_recipients, ///\n",
    "    keep(match) nogen\n",
    "merge m:1 fake_don_id ///\n",
    " using donors, keep(match) nogen ///\n",
    "    keepusing(age_don)\n",
    "```\n",
    "\n",
    "Don't load all variables from the new (using) dataset. Just load age_don"
   ]
  },
  {
   "attachments": {},
   "cell_type": "markdown",
   "metadata": {},
   "source": [
    "```stata\n",
    "corr age*\n",
    "```\n",
    "\n",
    "In our dataset, fake recipient age and fake donor age *** *** correlated."
   ]
  },
  {
   "attachments": {},
   "cell_type": "markdown",
   "metadata": {},
   "source": [
    "\n",
    "Merging protip: using merge, keep(match) might drop more records than you expect. If you think all\n",
    "records will match, it's a good idea to check this assumption\n",
    "\n",
    "```stata\n",
    "use transplants, clear merge 1:1 fake_id using donors_recipients, ///\n",
    "     keep(master match)\n",
    "assert _merge==3\n",
    "```"
   ]
  },
  {
   "attachments": {},
   "cell_type": "markdown",
   "metadata": {},
   "source": [
    "Maybe you don't expect a perfect match, but you want to make sure nearly all of your records match use transplants, clear\n",
    "\n",
    "```stata\n",
    "merge 1:1 fake_id using donors_recipients, keep(master match)\n",
    "quietly count if _merge == 3\n",
    "assert r(N)/_N > 0.99 //99% of records have _merge==3\n",
    "```"
   ]
  },
  {
   "attachments": {},
   "cell_type": "markdown",
   "metadata": {},
   "source": [
    "That's enough in way of an introduction to the `merge` command. It will come in handy only in specific projects that have relevant variables in different datasets."
   ]
  }
 ],
 "metadata": {
  "kernelspec": {
   "display_name": "Python 3",
   "language": "python",
   "name": "python3"
  },
  "language_info": {
   "codemirror_mode": {
    "name": "ipython",
    "version": 3
   },
   "file_extension": ".py",
   "mimetype": "text/x-python",
   "name": "python",
   "nbconvert_exporter": "python",
   "pygments_lexer": "ipython3",
   "version": "3.8.0"
  },
  "widgets": {
   "application/vnd.jupyter.widget-state+json": {
    "state": {},
    "version_major": 2,
    "version_minor": 0
   }
  }
 },
 "nbformat": 4,
 "nbformat_minor": 4
}
